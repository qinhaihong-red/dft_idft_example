{
 "cells": [
  {
   "cell_type": "markdown",
   "metadata": {},
   "source": [
    "# Example of Computing DFT&iDFT On Image\n",
    "\n",
    " An example just shows how to compute dft&idft on images to better understand the Discrete Fourier Transform . Without taking any efficiency consideration, to keep it simple and clear.\n",
    " \n",
    "Then compare the results with np.fft.fft2.\n",
    "\n",
    "## Formula:\n",
    "### DFT: $F(h,k)=\\sum_{a=0}^{N-1} \\sum_{b=0}^{N-1} f(a,b)e^{\\frac{-j2\\pi}{N}(ah+bk)}$\n",
    "\n",
    "### iDFT：$f(a,b)=\\frac{1}{N^2}\\sum_{h=0}^{N-1} \\sum_{k=0}^{N-1} F(h,k)e^{\\frac{j2\\pi}{N}(ah+bk)}$\n",
    "\n",
    "## DFT Steps:\n",
    "- consider f(a,b) as complex number(though it is a real pixel value of 2D image) and compute its magnitude as:$\\|f(a,b)\\|=np.abs(f(a,b))$, which means for a complex number C:   $magnitude(C)=sqrt\\{(C.real)^2+(C.imag)^2\\}$\n",
    "\n",
    "\n",
    "- compute phase as $\\theta = -(\\frac{2\\pi}{N}(ah+bk))$\n",
    "\n",
    "\n",
    "- store the temp complex value as:$F(h,k)_{a,b} = \\|f(a,b)\\|cos\\theta+j\\|f(a,b)\\|sin\\theta$\n",
    "\n",
    "\n",
    "- sum the temp to get final:$F(h,k) = \\sum_{a=0}^{N-1} \\sum_{b=0}^{N-1} F(h,k)_{a,b}$\n",
    "\n",
    "## iDFT Steps:\n",
    "almost like DFT Steps."
   ]
  },
  {
   "cell_type": "code",
   "execution_count": 97,
   "metadata": {},
   "outputs": [
    {
     "name": "stdout",
     "output_type": "stream",
     "text": [
      "dft:\n",
      " (666.4617107016011+749.843541603761j) \n",
      " (666.4617106982636+749.8435416037572j)\n",
      "idft:\n",
      " (69+5.37915127807102e-15j) \n",
      " (68.99999999999704+1.7283952047364437e-12j)\n"
     ]
    }
   ],
   "source": [
    "import numpy as np\n",
    "import cv2\n",
    "import cv_helper as ch\n",
    "import matplotlib.pyplot as plt\n",
    "%matplotlib inline\n",
    "\n",
    "img_path=ch.get_img_path('lena')\n",
    "lena=cv2.imread(img_path,0)\n",
    "N=lena.shape[0]#here shape[0]==shape[1]\n",
    "lena_dft=np.fft.fft2(lena)\n",
    "lena_idft=np.fft.ifft2(lena_dft)\n",
    "\n",
    "def dft(img,N,h,k):\n",
    "    F=np.zeros((N,N),dtype=np.complex128)\n",
    "    w0=2*np.pi/N\n",
    "    for a in range(N):\n",
    "        for b in range(N):\n",
    "            mag=img[a,b]\n",
    "            theta=-w0*(a*h+b*k)\n",
    "            F[a,b]=np.complex128(mag*np.cos(theta)+mag*np.sin(theta)*1j)\n",
    "\n",
    "    return F.sum()\n",
    "\n",
    "def idft(F,N,a,b):\n",
    "    I=np.zeros((N,N),dtype=np.complex128)\n",
    "    w0=2*np.pi/N\n",
    "    for h in range(N):\n",
    "        for k in range(N):\n",
    "            mag=np.abs(F[h,k])\n",
    "            theta1=np.angle(F[h,k])\n",
    "            theta2=w0*(a*h+b*k)\n",
    "            theta=theta1+theta2\n",
    "            I[h,k]=np.complex128(mag*np.cos(theta)+mag*np.sin(theta)*1j)\n",
    "\n",
    "    return I.sum()/(N*N)\n",
    "\n",
    "#test it\n",
    "print('dft:\\n',lena_dft[55,128],'\\n',dft(lena,N,55,128))\n",
    "print('idft:\\n',lena_idft[200,255],'\\n',idft(lena_dft,N,200,255))"
   ]
  }
 ],
 "metadata": {
  "kernelspec": {
   "display_name": "Python 3",
   "language": "python",
   "name": "python3"
  },
  "language_info": {
   "codemirror_mode": {
    "name": "ipython",
    "version": 3
   },
   "file_extension": ".py",
   "mimetype": "text/x-python",
   "name": "python",
   "nbconvert_exporter": "python",
   "pygments_lexer": "ipython3",
   "version": "3.6.1"
  }
 },
 "nbformat": 4,
 "nbformat_minor": 2
}
